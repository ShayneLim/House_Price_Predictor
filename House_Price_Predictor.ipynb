{
 "cells": [
  {
   "cell_type": "code",
   "execution_count": 7,
   "id": "cfbe82a2-a9f4-48ec-bd5d-8db7f1bd6808",
   "metadata": {},
   "outputs": [],
   "source": [
    "#1. setup and loading \n",
    "import numpy as np\n",
    "import pandas as pd\n",
    "import matplotlib.pyplot as plt\n",
    "import seaborn as sns\n",
    "\n",
    "#defining file path for dataset\n",
    "file_path = '/Volumes/SHAYNE SSD/Project_Datasets/House_Price_Predictor/data_kaggle.csv'\n",
    "\n",
    "#attempt to load data into dataframe 'df'\n",
    "df = pd.read_csv(file_path)\n",
    "# print(\"Dataset loaded succesfully. First 55 rows:\")\n",
    "# df.head()"
   ]
  },
  {
   "cell_type": "code",
   "execution_count": 10,
   "id": "87fd397a-55e4-4471-9b8c-b984deeacf69",
   "metadata": {},
   "outputs": [
    {
     "name": "stdout",
     "output_type": "stream",
     "text": [
      "Dataframe info:\n",
      "<class 'pandas.core.frame.DataFrame'>\n",
      "RangeIndex: 53883 entries, 0 to 53882\n",
      "Data columns (total 8 columns):\n",
      " #   Column         Non-Null Count  Dtype  \n",
      "---  ------         --------------  -----  \n",
      " 0   Location       53883 non-null  object \n",
      " 1   Price          53635 non-null  object \n",
      " 2   Rooms          52177 non-null  object \n",
      " 3   Bathrooms      51870 non-null  float64\n",
      " 4   Car Parks      36316 non-null  float64\n",
      " 5   Property Type  53858 non-null  object \n",
      " 6   Size           52820 non-null  object \n",
      " 7   Furnishing     46953 non-null  object \n",
      "dtypes: float64(2), object(6)\n",
      "memory usage: 3.3+ MB\n",
      "\n",
      "Dataframe shape:\n",
      "rows: 53883 \n",
      " columns: 8\n"
     ]
    }
   ],
   "source": [
    "#2. Initial Data Exploration\n",
    "print(\"Dataframe info:\")\n",
    "df.info() #tells us the number of entries, the column names, the number of non-null values, and the data type of each column.\n",
    "\n",
    "print(\"\\nDataframe shape:\")\n",
    "print(f\"rows: {df.shape[0]} \\n columns: {df.shape[1]}\")"
   ]
  },
  {
   "cell_type": "code",
   "execution_count": 16,
   "id": "9050e629-0d84-4253-a228-3c79d5897ec8",
   "metadata": {},
   "outputs": [
    {
     "name": "stdout",
     "output_type": "stream",
     "text": [
      "before clean:\n",
      "0     1250000\n",
      "1     6800000\n",
      "2     1030000\n",
      "3         NaN\n",
      "4      900000\n",
      "Name: Price, dtype: object\n",
      "\n",
      "data type before clean:\n",
      "object\n",
      "\n",
      "\n",
      "after clean:\n",
      "0    1250000.0\n",
      "1    6800000.0\n",
      "2    1030000.0\n",
      "3          NaN\n",
      "4     900000.0\n",
      "Name: Price, dtype: float64\n",
      "\n",
      "data type after clean:\n",
      "float64\n"
     ]
    }
   ],
   "source": [
    "#3. Data cleaning\n",
    "print(\"before clean:\")\n",
    "print(df[\"Price\"].head())\n",
    "print(\"\\ndata type before clean:\")\n",
    "print(df[\"Price\"].dtype)\n",
    "\n",
    "df[\"Price_Original\"] = df[\"Price\"] #create copy of 'Price' for backup \n",
    "df[\"Price\"] = df[\"Price\"].str.replace(\"RM\", \"\").str.replace(\",\", \"\") #replace \"RM\" and \",\" with blank (remove)\n",
    "\n",
    "df[\"Price\"] = pd.to_numeric(df[\"Price\"], errors = 'coerce')\n",
    "\n",
    "#check\n",
    "print(\"\\n\\nafter clean:\")\n",
    "print(df[\"Price\"].head())\n",
    "print(\"\\ndata type after clean:\")\n",
    "print(df[\"Price\"].dtype)"
   ]
  },
  {
   "cell_type": "code",
   "execution_count": null,
   "id": "d0d21e2b-bc9c-407b-9636-ad01657554fe",
   "metadata": {},
   "outputs": [],
   "source": []
  }
 ],
 "metadata": {
  "kernelspec": {
   "display_name": "Python [conda env:base] *",
   "language": "python",
   "name": "conda-base-py"
  },
  "language_info": {
   "codemirror_mode": {
    "name": "ipython",
    "version": 3
   },
   "file_extension": ".py",
   "mimetype": "text/x-python",
   "name": "python",
   "nbconvert_exporter": "python",
   "pygments_lexer": "ipython3",
   "version": "3.13.5"
  }
 },
 "nbformat": 4,
 "nbformat_minor": 5
}
