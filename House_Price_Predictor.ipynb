{
 "cells": [
  {
   "cell_type": "code",
   "execution_count": null,
   "id": "cfbe82a2-a9f4-48ec-bd5d-8db7f1bd6808",
   "metadata": {},
   "outputs": [],
   "source": [
    "#1. setup and loading \n",
    "import numpy as np\n",
    "import pandas as pd\n",
    "import matplotlib.pyplot as plt\n",
    "import seaborn as sns\n",
    "\n",
    "#defining file path for dataset\n",
    "file_path = '/Volumes/SHAYNE SSD/Project_Datasets/House_Price_Predictor/data_kaggle.csv'\n",
    "\n",
    "#attempt to load data into dataframe 'df'\n",
    "df = pd.read_csv(file_path)\n",
    "# print(\"Dataset loaded succesfully. First 55 rows:\")\n",
    "# df.head()"
   ]
  },
  {
   "cell_type": "code",
   "execution_count": null,
   "id": "87fd397a-55e4-4471-9b8c-b984deeacf69",
   "metadata": {},
   "outputs": [],
   "source": [
    "#2. Initial Data Exploration\n",
    "print(\"Dataframe info:\")\n",
    "df.info() #tells us the number of entries, the column names, the number of non-null values, and the data type of each column.\n",
    "\n",
    "print(\"\\nDataframe shape:\")\n",
    "print(f\"rows: {df.shape[0]} \\n columns: {df.shape[1]}\")"
   ]
  },
  {
   "cell_type": "code",
   "execution_count": null,
   "id": "9050e629-0d84-4253-a228-3c79d5897ec8",
   "metadata": {},
   "outputs": [],
   "source": [
    "#3. Data cleaning (price)\n",
    "print(\"before clean:\")\n",
    "print(df[\"Price\"].head())\n",
    "print(\"\\ndata type before clean:\")\n",
    "print(df[\"Price\"].dtype)\n",
    "\n",
    "df[\"Price_Original\"] = df[\"Price\"] #create copy of 'Price' for backup \n",
    "df[\"Price\"] = df[\"Price\"].str.replace(\"RM\", \"\").str.replace(\",\", \"\") #replace \"RM\" and \",\" with blank (remove)\n",
    "\n",
    "df[\"Price\"] = pd.to_numeric(df[\"Price\"], errors = 'coerce')\n",
    "\n",
    "#check\n",
    "print(\"\\n\\nafter clean:\")\n",
    "print(df[\"Price\"].head())\n",
    "print(\"\\ndata type after clean:\")\n",
    "print(df[\"Price\"].dtype)"
   ]
  },
  {
   "cell_type": "code",
   "execution_count": null,
   "id": "d0d21e2b-bc9c-407b-9636-ad01657554fe",
   "metadata": {},
   "outputs": [],
   "source": [
    "#4. Data Cleaning (size)\n",
    "print(\"Before clean:\")\n",
    "print(df[\"Size\"].head())\n",
    "print(\"\\nData type before clean:\")\n",
    "print(df[\"Size\"].dtype)\n",
    "\n",
    "df[\"Size_sqft\"] = df[\"Size\"].str.extract(\"(\\d[\\d,']*)\")\n",
    "df[\"Size_sqft\"] = df[\"Size_sqft\"].str.replace(\",\", \"\") #replace \",\"\n",
    "df[\"Size_sqft\"] = pd.to_numeric(df[\"Size_sqft\"], errors = 'coerce') #convert str to int\n",
    "\n",
    "#check\n",
    "print(\"\\n\\nBefore clean:\")\n",
    "print(df[\"Size_sqft\"].head())\n",
    "print(\"\\nAfter clean:\")\n",
    "print(df[\"Size_sqft\"].dtype)"
   ]
  },
  {
   "cell_type": "code",
   "execution_count": null,
   "id": "17e7c8bc-e41d-4ee2-9c33-668a73bc5e30",
   "metadata": {},
   "outputs": [],
   "source": [
    "#5. handle missing data \n",
    "print(\"Before handle:\")\n",
    "print(df.isnull().sum())\n",
    "print(\"\\nTotal rows before drop\")\n",
    "print(df.shape[0])\n",
    "\n",
    "df.dropna(subset = [\"Price\", \"Size_sqft\"], inplace = True) #subset argument tells it to only look for NaN in Price and Size_sqft\n",
    "\n",
    "#check\n",
    "print(\"\\n\\nAfter handle:\")\n",
    "print(df.isnull().sum())\n",
    "print(\"\\nTotal numbers after drop\")\n",
    "print(df.shape[0])"
   ]
  },
  {
   "cell_type": "code",
   "execution_count": null,
   "id": "6ce85872-18a1-4e90-b03c-e4e8beb17945",
   "metadata": {},
   "outputs": [],
   "source": [
    "#6. Cleaning and Imputing Rooms, Bathrooms, and Car Parks \n",
    "\n",
    "df['Rooms_Cleaned'] = df['Rooms'].str.extract('(\\d)').astype(float)\n",
    "\n",
    "\n",
    "#Impute Missing Values with the Median\n",
    "\n",
    "median_rooms = df['Rooms_Cleaned'].median()\n",
    "median_bathrooms = df['Bathrooms'].median()\n",
    "median_carparks = df['Car Parks'].median()\n",
    "\n",
    "print(f\"Median for Rooms: {median_rooms}\")\n",
    "print(f\"Median for Bathrooms: {median_bathrooms}\")\n",
    "print(f\"Median for Car Parks: {median_carparks}\")\n",
    "\n",
    "df['Rooms_Cleaned'].fillna(median_rooms, inplace=True)\n",
    "df['Bathrooms'].fillna(median_bathrooms, inplace=True)\n",
    "df['Car Parks'].fillna(median_carparks, inplace=True)\n",
    "\n",
    "\n",
    "#check\n",
    "print(\"\\n--- Missing values AFTER imputation ---\")\n",
    "print(df.isnull().sum())\n",
    "\n"
   ]
  },
  {
   "cell_type": "code",
   "execution_count": null,
   "id": "421bedaa-6184-48ed-a29f-4c42f647cd78",
   "metadata": {},
   "outputs": [],
   "source": [
    "#7. Handling Categorical Columns (Property Type and Furnishing) \n",
    "\n",
    "# --- Inspect the columns before cleaning ---\n",
    "# .value_counts() is a great way to see the different categories and their frequencies.\n",
    "# We use dropna=False to include the count of NaN (missing) values in the output.\n",
    "print(\"--- Value counts for 'Property Type' (before imputation) ---\")\n",
    "print(df['Property Type'].value_counts(dropna=False))\n",
    "\n",
    "print(\"\\n--- Value counts for 'Furnishing' (before imputation) ---\")\n",
    "print(df['Furnishing'].value_counts(dropna=False))\n",
    "\n",
    "\n",
    "# --- Impute Missing Values with the Mode ---\n",
    "\n",
    "# 1. Calculate the mode for each column. The mode is the most common category.\n",
    "# The .mode() method returns a Series (in case of a tie), so we select the first item with [0].\n",
    "mode_property_type = df['Property Type'].mode()[0]\n",
    "mode_furnishing = df['Furnishing'].mode()[0]\n",
    "\n",
    "print(f\"\\nMode for Property Type: '{mode_property_type}'\")\n",
    "print(f\"Mode for Furnishing: '{mode_furnishing}'\")\n",
    "\n",
    "\n",
    "# 2. Fill the missing values (NaNs) with the calculated mode.\n",
    "df['Property Type'].fillna(mode_property_type, inplace=True)\n",
    "df['Furnishing'].fillna(mode_furnishing, inplace=True)\n",
    "\n",
    "\n",
    "# --- Verification ---\n",
    "# Check the missing values again. Almost all should be 0 now.\n",
    "# The original 'Rooms' and 'Size' columns will still show NaNs, but we have our cleaned versions.\n",
    "print(\"\\n--- Missing values AFTER final imputation ---\")\n",
    "print(df.isnull().sum())\n",
    "\n",
    "print(\"\\n\\nData cleaning and imputation is now complete!\")\n",
    "\n"
   ]
  },
  {
   "cell_type": "code",
   "execution_count": null,
   "id": "ed73fd04-a0bf-431d-836f-b2170e19129a",
   "metadata": {},
   "outputs": [],
   "source": [
    "#8. "
   ]
  }
 ],
 "metadata": {
  "kernelspec": {
   "display_name": "Python [conda env:base] *",
   "language": "python",
   "name": "conda-base-py"
  },
  "language_info": {
   "codemirror_mode": {
    "name": "ipython",
    "version": 3
   },
   "file_extension": ".py",
   "mimetype": "text/x-python",
   "name": "python",
   "nbconvert_exporter": "python",
   "pygments_lexer": "ipython3",
   "version": "3.13.5"
  }
 },
 "nbformat": 4,
 "nbformat_minor": 5
}
