{
 "cells": [
  {
   "cell_type": "code",
   "execution_count": null,
   "id": "cfbe82a2-a9f4-48ec-bd5d-8db7f1bd6808",
   "metadata": {},
   "outputs": [],
   "source": [
    "#1. setup and loading \n",
    "import numpy as np\n",
    "import pandas as pd\n",
    "import matplotlib.pyplot as plt\n",
    "import seaborn as sns\n",
    "\n",
    "#defining file path for dataset\n",
    "file_path = '/Volumes/SHAYNE SSD/Project_Datasets/House_Price_Predictor/data_kaggle.csv'\n",
    "\n",
    "#attempt to load data into dataframe 'df'\n",
    "df = pd.read_csv(file_path)\n",
    "# print(\"Dataset loaded succesfully. First 55 rows:\")\n",
    "# df.head()"
   ]
  },
  {
   "cell_type": "code",
   "execution_count": null,
   "id": "87fd397a-55e4-4471-9b8c-b984deeacf69",
   "metadata": {},
   "outputs": [],
   "source": [
    "#2. Initial Data Exploration\n",
    "print(\"Dataframe info:\")\n",
    "df.info() #tells us the number of entries, the column names, the number of non-null values, and the data type of each column.\n",
    "\n",
    "print(\"\\nDataframe shape:\")\n",
    "print(f\"rows: {df.shape[0]} \\n columns: {df.shape[1]}\")"
   ]
  },
  {
   "cell_type": "code",
   "execution_count": null,
   "id": "9050e629-0d84-4253-a228-3c79d5897ec8",
   "metadata": {},
   "outputs": [],
   "source": [
    "#3. Data cleaning (price)\n",
    "print(\"before clean:\")\n",
    "print(df[\"Price\"].head())\n",
    "print(\"\\ndata type before clean:\")\n",
    "print(df[\"Price\"].dtype)\n",
    "\n",
    "df[\"Price_Original\"] = df[\"Price\"] #create copy of 'Price' for backup \n",
    "df[\"Price\"] = df[\"Price\"].str.replace(\"RM\", \"\").str.replace(\",\", \"\") #replace \"RM\" and \",\" with blank (remove)\n",
    "\n",
    "df[\"Price\"] = pd.to_numeric(df[\"Price\"], errors = 'coerce')\n",
    "\n",
    "#check\n",
    "print(\"\\n\\nafter clean:\")\n",
    "print(df[\"Price\"].head())\n",
    "print(\"\\ndata type after clean:\")\n",
    "print(df[\"Price\"].dtype)"
   ]
  },
  {
   "cell_type": "code",
   "execution_count": null,
   "id": "d0d21e2b-bc9c-407b-9636-ad01657554fe",
   "metadata": {},
   "outputs": [],
   "source": [
    "#4. Data Cleaning (size)\n",
    "print(\"Before clean:\")\n",
    "print(df[\"Size\"].head())\n",
    "print(\"\\nData type before clean:\")\n",
    "print(df[\"Size\"].dtype)\n",
    "\n",
    "df[\"Size_sqft\"] = df[\"Size\"].str.extract(\"(\\d[\\d,']*)\")\n",
    "df[\"Size_sqft\"] = df[\"Size_sqft\"].str.replace(\",\", \"\") #replace \",\"\n",
    "df[\"Size_sqft\"] = pd.to_numeric(df[\"Size_sqft\"], errors = 'coerce') #convert str to int\n",
    "\n",
    "#check\n",
    "print(\"\\n\\nBefore clean:\")\n",
    "print(df[\"Size_sqft\"].head())\n",
    "print(\"\\nAfter clean:\")\n",
    "print(df[\"Size_sqft\"].dtype)"
   ]
  },
  {
   "cell_type": "code",
   "execution_count": 25,
   "id": "17e7c8bc-e41d-4ee2-9c33-668a73bc5e30",
   "metadata": {},
   "outputs": [
    {
     "name": "stdout",
     "output_type": "stream",
     "text": [
      "Before handle:\n",
      "Location              0\n",
      "Price                 0\n",
      "Rooms              1591\n",
      "Bathrooms          1885\n",
      "Car Parks         17091\n",
      "Property Type         0\n",
      "Size                  0\n",
      "Furnishing         6560\n",
      "Price_Original        0\n",
      "Size_sqft             0\n",
      "dtype: int64\n",
      "\n",
      "Total rows before drop\n",
      "52523\n",
      "\n",
      "\n",
      "After handle:\n",
      "Location              0\n",
      "Price                 0\n",
      "Rooms              1591\n",
      "Bathrooms          1885\n",
      "Car Parks         17091\n",
      "Property Type         0\n",
      "Size                  0\n",
      "Furnishing         6560\n",
      "Price_Original        0\n",
      "Size_sqft             0\n",
      "dtype: int64\n",
      "\n",
      "Total numbers after drop\n",
      "52523\n"
     ]
    }
   ],
   "source": [
    "#handle missing data \n",
    "print(\"Before handle:\")\n",
    "print(df.isnull().sum())\n",
    "print(\"\\nTotal rows before drop\")\n",
    "print(df.shape[0])\n",
    "\n",
    "df.dropna(subset = [\"Price\", \"Size_sqft\"], inplace = True) #subset argument tells it to only look for NaN in Price and Size_sqft\n",
    "\n",
    "#check\n",
    "print(\"\\n\\nAfter handle:\")\n",
    "print(df.isnull().sum())\n",
    "print(\"\\nTotal numbers after drop\")\n",
    "print(df.shape[0])"
   ]
  },
  {
   "cell_type": "code",
   "execution_count": null,
   "id": "6ce85872-18a1-4e90-b03c-e4e8beb17945",
   "metadata": {},
   "outputs": [],
   "source": []
  }
 ],
 "metadata": {
  "kernelspec": {
   "display_name": "Python [conda env:base] *",
   "language": "python",
   "name": "conda-base-py"
  },
  "language_info": {
   "codemirror_mode": {
    "name": "ipython",
    "version": 3
   },
   "file_extension": ".py",
   "mimetype": "text/x-python",
   "name": "python",
   "nbconvert_exporter": "python",
   "pygments_lexer": "ipython3",
   "version": "3.13.5"
  }
 },
 "nbformat": 4,
 "nbformat_minor": 5
}
